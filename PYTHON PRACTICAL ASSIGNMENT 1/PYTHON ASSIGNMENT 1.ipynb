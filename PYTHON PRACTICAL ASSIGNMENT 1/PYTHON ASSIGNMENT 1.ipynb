{
 "cells": [
  {
   "cell_type": "markdown",
   "id": "163599f8",
   "metadata": {},
   "source": [
    "## __Python Assignment - 2__"
   ]
  },
  {
   "cell_type": "markdown",
   "id": "7d132769",
   "metadata": {},
   "source": [
    "#### __1. Display the difference in dates__"
   ]
  },
  {
   "cell_type": "code",
   "execution_count": 1,
   "id": "da07848a",
   "metadata": {},
   "outputs": [
    {
     "name": "stdout",
     "output_type": "stream",
     "text": [
      "Difference in Days:  365\n"
     ]
    }
   ],
   "source": [
    "from datetime import date \n",
    "\n",
    "# Input two dates in YYYY-MM-DD format\n",
    "\n",
    "d1 = date(2025, 9, 20)\n",
    "d2 = date(2026, 9, 20)\n",
    "\n",
    "# Difference\n",
    "diff = d2 - d1\n",
    "print(\"Difference in Days: \",diff.days)"
   ]
  },
  {
   "cell_type": "markdown",
   "id": "6d566ac1",
   "metadata": {},
   "source": [
    "#### __2. Display time since epoch in hours and minutes__"
   ]
  },
  {
   "cell_type": "code",
   "execution_count": 2,
   "id": "5651f6e6",
   "metadata": {},
   "outputs": [
    {
     "name": "stdout",
     "output_type": "stream",
     "text": [
      "Since epoch:\n",
      "Hours: 488296.0\n",
      "Minutes: 29297798.0\n"
     ]
    }
   ],
   "source": [
    "import time \n",
    "\n",
    "# seconds since epoch\n",
    "seconds = time.time()\n",
    "\n",
    "hours = seconds // 3600\n",
    "minutes = seconds // 60\n",
    "\n",
    "print(\"Since epoch:\")\n",
    "print(\"Hours:\", hours)\n",
    "print(\"Minutes:\", minutes)"
   ]
  },
  {
   "cell_type": "code",
   "execution_count": 3,
   "id": "8e0aebfd",
   "metadata": {},
   "outputs": [],
   "source": [
    "# What is Epoch?\n",
    "# Definition: In programming, the epoch is a reference point in time, typically January 1, 1970, 00:00:00 UTC (Unix epoch), \n",
    "# from which time is measured as the number of seconds elapsed. Functions like Python’s time.time() or C++’s time(nullptr) \n",
    "# return the seconds since this epoch.\n",
    "# Details\n",
    "\n",
    "# Epoch as a Standard:\n",
    "\n",
    "# The Unix epoch (Jan 1, 1970, 00:00:00 UTC) is a universal starting point for time calculations.\n",
    "# Used in most programming languages (e.g., Python’s time.time(), C++’s <ctime>)."
   ]
  },
  {
   "cell_type": "markdown",
   "id": "3d92e04b",
   "metadata": {},
   "source": [
    "#### __3. Display your age in years, months, days__"
   ]
  },
  {
   "cell_type": "code",
   "execution_count": null,
   "id": "fba5b0da",
   "metadata": {},
   "outputs": [
    {
     "name": "stdout",
     "output_type": "stream",
     "text": [
      "I am 20 Years, 11 Months & 24 Days old.\n"
     ]
    }
   ],
   "source": [
    "from datetime import date \n",
    "\n",
    "birth = date(2004, 9, 20)\n",
    "today = date.today()\n",
    "\n",
    "years = today.year - birth.year\n",
    "month = today.month - birth.month\n",
    "day = today.day - birth.day\n",
    "\n",
    "# Adjust for negatives\n",
    "if day < 0:\n",
    "    month -= 1\n",
    "    day += 30\n",
    "if month < 0:\n",
    "    years -= 1\n",
    "    month += 12\n",
    "\n",
    "print(f\"I am {years} Years, {month} Months & {day} Days old.\")"
   ]
  },
  {
   "cell_type": "markdown",
   "id": "61352a45",
   "metadata": {},
   "source": [
    "#### __4. Display trigonometric table of sin, cos, tan__"
   ]
  },
  {
   "cell_type": "code",
   "execution_count": 5,
   "id": "b907c66d",
   "metadata": {},
   "outputs": [
    {
     "name": "stdout",
     "output_type": "stream",
     "text": [
      "Angle\tsin\tcos\ttan\n",
      "0\t0.00\t1.00\t0.00\n",
      "15\t0.26\t0.97\t0.27\n",
      "30\t0.50\t0.87\t0.58\n",
      "45\t0.71\t0.71\t1.00\n",
      "60\t0.87\t0.50\t1.73\n",
      "75\t0.97\t0.26\t3.73\n",
      "90\t1.00\t0.00\t16331239353195370.00\n"
     ]
    }
   ],
   "source": [
    "import math\n",
    "\n",
    "print(\"Angle\\tsin\\tcos\\ttan\")\n",
    "\n",
    "for angle in range(0,91,15):\n",
    "    rad = math.radians(angle)\n",
    "    print(f\"{angle}\\t{math.sin(rad):.2f}\\t{math.cos(rad):.2f}\\t{math.tan(rad):.2f}\")\n",
    "\n",
    "#Trigonometric functions use radians, so we convert degrees using math.radians()\n",
    "    "
   ]
  },
  {
   "cell_type": "markdown",
   "id": "4f10783d",
   "metadata": {},
   "source": [
    "#### __5. Generate 10 Random Numbers__"
   ]
  },
  {
   "cell_type": "code",
   "execution_count": 6,
   "id": "782da932",
   "metadata": {},
   "outputs": [
    {
     "name": "stdout",
     "output_type": "stream",
     "text": [
      "62\n",
      "20\n",
      "91\n",
      "55\n",
      "53\n",
      "15\n",
      "15\n",
      "39\n",
      "24\n",
      "38\n"
     ]
    }
   ],
   "source": [
    "import random \n",
    "\n",
    "for i in range(1,11):\n",
    "    i = random.randint(1,100)\n",
    "    print(i)\n",
    "\n",
    "# randint(a, b) generates random integer between a and b"
   ]
  },
  {
   "cell_type": "markdown",
   "id": "7f3e72fb",
   "metadata": {},
   "source": [
    "#### __6. Authentication (Simple Compare)__"
   ]
  },
  {
   "cell_type": "code",
   "execution_count": null,
   "id": "72c8a906",
   "metadata": {},
   "outputs": [],
   "source": [
    "# Store crediantials\n",
    "\n",
    "username = \"@NDS\"\n",
    "password = \"MCA#127\"\n",
    "\n",
    "print(\"-----Sign In-----\\n\")\n",
    "u = input(\"Enter Username: \")\n",
    "p = input(\"Enter Password: \")\n",
    "\n",
    "if(u == username and p == password):\n",
    "    print(\"Welcome to MCA-1\")\n",
    "else:\n",
    "    print(\"Invalid Crediantials!\")"
   ]
  },
  {
   "cell_type": "markdown",
   "id": "5d077b31",
   "metadata": {},
   "source": [
    "#### __7. Authentication (with Encryption)__"
   ]
  },
  {
   "cell_type": "code",
   "execution_count": null,
   "id": "188dc925",
   "metadata": {},
   "outputs": [],
   "source": [
    "from cryptography.fernet import Fernet \n",
    "\n",
    "# generate key\n",
    "\n",
    "key = Fernet.generate_key()\n",
    "cipher = Fernet(key)\n",
    "\n",
    "# original password\n",
    "passwrd = \"MCA#127\"\n",
    "encrypted = cipher.encrypt(passwrd.encode())\n",
    "\n",
    "# Input password\n",
    "u = input(\"Enter username: \")\n",
    "p = input(\"Enter password: \")\n",
    "\n",
    "if cipher.decrypt(encrypted).decode() == p:\n",
    "    print(\"Login Successful\")\n",
    "else:\n",
    "    print(\"Invalid credentials\")\n",
    "\n",
    "# We encrypt the stored password and decrypt for comparison."
   ]
  },
  {
   "cell_type": "markdown",
   "id": "795f4197",
   "metadata": {},
   "source": [
    "#### __8. Authentication (with Hashing)__"
   ]
  },
  {
   "cell_type": "code",
   "execution_count": null,
   "id": "d117bc68",
   "metadata": {},
   "outputs": [],
   "source": [
    "import hashlib\n",
    "\n",
    "stored = hashlib.sha256(\"12345\".encode()).hexdigest()\n",
    "\n",
    "u = input(\"Enter username: \")\n",
    "p = input(\"Enter password: \")\n",
    "\n",
    "hashed = hashlib.sha256(p.encode()).hexdigest()\n",
    "\n",
    "if hashed == stored:\n",
    "    print(\"Login Successful\")\n",
    "else:\n",
    "    print(\"Invalid credentials\")\n",
    "\n",
    "# Hashing is one-way (cannot be reversed). We hash both stored and input, then compare."
   ]
  },
  {
   "cell_type": "markdown",
   "id": "9cabd51b",
   "metadata": {},
   "source": [
    "#### __9. Convert string \"Hello$World\" into Base64__"
   ]
  },
  {
   "cell_type": "code",
   "execution_count": null,
   "id": "de8854ea",
   "metadata": {},
   "outputs": [],
   "source": [
    "import base64\n",
    "\n",
    "text = \"Hello$World\"\n",
    "\n",
    "encoded = base64.b64encode(text.encode())\n",
    "\n",
    "print(\"Base64: \",encoded.decode())"
   ]
  },
  {
   "cell_type": "markdown",
   "id": "4f9cb241",
   "metadata": {},
   "source": [
    "#### __10. String Manipulation Exercises__"
   ]
  },
  {
   "cell_type": "code",
   "execution_count": 11,
   "id": "478a5262",
   "metadata": {},
   "outputs": [
    {
     "name": "stdout",
     "output_type": "stream",
     "text": [
      "Reversed:  321nohtyP\n",
      "Emma\n",
      "is\n",
      "a\n",
      "data\n",
      "scientist\n",
      "who\n",
      "knows\n",
      "Python.\n"
     ]
    }
   ],
   "source": [
    "str = \"Python123\"\n",
    "\n",
    "print(\"Reversed: \",str[::-1])\n",
    "\n",
    "str1 = \"Emma is a data scientist who knows Python.\"\n",
    "bit = str1.split(\" \")\n",
    "\n",
    "for i in bit:\n",
    "    print(i)"
   ]
  },
  {
   "cell_type": "code",
   "execution_count": 12,
   "id": "0c23705d",
   "metadata": {},
   "outputs": [
    {
     "name": "stdout",
     "output_type": "stream",
     "text": [
      "Jms\n",
      "Dip\n",
      "Son\n"
     ]
    }
   ],
   "source": [
    "# Create a string made of the first, middle and last character - slicing\n",
    "\n",
    "str1 = \"James\"\n",
    "print(str1[::2])\n",
    "\n",
    "# Create a string made of the middle three characters\n",
    "str2 = \"JhonDipPeta\"\n",
    "print(str2[4:7])\n",
    "\n",
    "str3 = \"JaSonAy\"\n",
    "print(str3[2:5])"
   ]
  },
  {
   "cell_type": "code",
   "execution_count": 13,
   "id": "6e8f1dfe",
   "metadata": {},
   "outputs": [
    {
     "name": "stdout",
     "output_type": "stream",
     "text": [
      "AultKelly\n"
     ]
    }
   ],
   "source": [
    "# Append new string in the middle of a given string\n",
    "s1 = \"Ault\"\n",
    "s2 = \"Kelly\"\n",
    "s3 = s1+s2\n",
    "print(s3)"
   ]
  },
  {
   "cell_type": "code",
   "execution_count": 14,
   "id": "66531fb5",
   "metadata": {},
   "outputs": [
    {
     "name": "stdout",
     "output_type": "stream",
     "text": [
      "ntivPYAE\n"
     ]
    }
   ],
   "source": [
    "str4 = \"PYnAtivE\"\n",
    "\n",
    "lower = []\n",
    "upper = []\n",
    "\n",
    "for i in str4:\n",
    "    if(i.islower()):\n",
    "        lower.append(i)\n",
    "    else:\n",
    "        upper.append(i)\n",
    "\n",
    "joined = ''.join(lower + upper)\n",
    "print(joined)"
   ]
  },
  {
   "cell_type": "code",
   "execution_count": 15,
   "id": "0ee919f6",
   "metadata": {},
   "outputs": [
    {
     "name": "stdout",
     "output_type": "stream",
     "text": [
      "6.333333333333333\n"
     ]
    }
   ],
   "source": [
    "input_str = \"PYnative29@#8496\"\n",
    "\n",
    "total = 0\n",
    "flag = 0\n",
    "\n",
    "for i in input_str:\n",
    "    if(i.isdigit()):\n",
    "        flag = flag + 1\n",
    "        total = total + int(i)\n",
    "\n",
    "avg = total / flag\n",
    "print(avg)"
   ]
  },
  {
   "cell_type": "markdown",
   "id": "61e3234c",
   "metadata": {},
   "source": [
    "#### **11. Authentication: Ask username, password and compare with encryption (DES/AES algo)**"
   ]
  },
  {
   "cell_type": "code",
   "execution_count": null,
   "id": "ae124c97",
   "metadata": {},
   "outputs": [],
   "source": []
  },
  {
   "cell_type": "markdown",
   "id": "1f1c8825",
   "metadata": {},
   "source": [
    "#### **12. Authentication: Ask username, password and compare with encryption (RSA algo)**"
   ]
  },
  {
   "cell_type": "code",
   "execution_count": null,
   "id": "45d31d82",
   "metadata": {},
   "outputs": [],
   "source": []
  }
 ],
 "metadata": {
  "kernelspec": {
   "display_name": "Python 3",
   "language": "python",
   "name": "python3"
  },
  "language_info": {
   "codemirror_mode": {
    "name": "ipython",
    "version": 3
   },
   "file_extension": ".py",
   "mimetype": "text/x-python",
   "name": "python",
   "nbconvert_exporter": "python",
   "pygments_lexer": "ipython3",
   "version": "3.13.5"
  }
 },
 "nbformat": 4,
 "nbformat_minor": 5
}
